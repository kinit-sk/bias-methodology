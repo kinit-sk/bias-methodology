{
 "cells": [
  {
   "cell_type": "code",
   "execution_count": 1,
   "id": "42295a52-55a9-4ffb-9da6-efc9bf058d6c",
   "metadata": {},
   "outputs": [],
   "source": [
    "%load_ext autoreload\n",
    "%autoreload 2"
   ]
  },
  {
   "cell_type": "code",
   "execution_count": 2,
   "id": "081522f2-6835-4c6c-ad97-76af27718121",
   "metadata": {},
   "outputs": [],
   "source": [
    "import ipywidgets as widgets\n",
    "\n",
    "from dataset import *\n",
    "from score import *\n",
    "from util import model_init"
   ]
  },
  {
   "cell_type": "code",
   "execution_count": 3,
   "id": "8008f35c-bca8-4d48-ab7a-e6a454e51f2d",
   "metadata": {},
   "outputs": [
    {
     "data": {
      "application/vnd.jupyter.widget-view+json": {
       "model_id": "1758ccca327140a4935aa673b3e046c5",
       "version_major": 2,
       "version_minor": 0
      },
      "text/plain": [
       "HBox(children=(SelectMultiple(description='Models', index=(5,), options=('bert-base-multilingual-cased', 'bert…"
      ]
     },
     "metadata": {},
     "output_type": "display_data"
    }
   ],
   "source": [
    "select_models = widgets.SelectMultiple(\n",
    "    options=['bert-base-multilingual-cased', 'bert-base-uncased', 'fav-kky/FERNET-CC_sk', 'gerulata/slovakbert', 'roberta-base', 'xlm-roberta-base'],\n",
    "    value=['xlm-roberta-base'],\n",
    "    description='Models',\n",
    "    rows=10,\n",
    ")\n",
    "\n",
    "select_datasets = widgets.SelectMultiple(\n",
    "    options=['our', 'stereoset', 'stereoset-genderswap', 'stereoset-genderswap-filtered', 'crows', 'crows-revised'],\n",
    "    value=['our'],\n",
    "    description='Datasets',\n",
    "    rows=10,\n",
    ")\n",
    "\n",
    "select_scores = widgets.SelectMultiple(\n",
    "    options=['our', 'pair', 'pair-antistereo', 'stereoset', 'stereoset-genderswap', 'crows', 'crows-antistereo'],\n",
    "    value=['our'],\n",
    "    description='Scores',\n",
    "    rows=10,\n",
    ")\n",
    "\n",
    "hbox = widgets.HBox([select_models, select_datasets, select_scores])\n",
    "\n",
    "display(hbox)"
   ]
  },
  {
   "cell_type": "code",
   "execution_count": 4,
   "id": "2bdcf854-efb4-4579-aa64-b9a7dbed88df",
   "metadata": {},
   "outputs": [
    {
     "name": "stdout",
     "output_type": "stream",
     "text": [
      "# Samples: 262 , # Unique: 262\n",
      "Dataset size: 262\n",
      "Normality test:\n",
      "Shapiro-Wilk test p-value: \u001b[1;38;2;255;0;0m2.3e-16\u001b[0m (not pass)\n",
      "\n",
      "% Positive: 0.55\n",
      "Mean: 0.0455, Stdev 1.24\n",
      "Stereotypity tests (confidence for >0 model):\n",
      "Mean > 0 acc. boostrap distribution: \u001b[1;38;2;255;0;0m0.28\u001b[0m (not pass)\n",
      "Mean > 0 acc. boostrap frequency: \u001b[1;38;2;255;0;0m0.28\u001b[0m (not pass)\n",
      "Mean > 0 acc. standard error: \u001b[1;38;2;255;0;0m0.28\u001b[0m (not pass)\n"
     ]
    },
    {
     "data": {
      "image/png": "[encoded data removed]",
      "text/plain": [
       "<Figure size 720x360 with 2 Axes>"
      ]
     },
     "metadata": {
      "needs_background": "light"
     },
     "output_type": "display_data"
    },
    {
     "name": "stdout",
     "output_type": "stream",
     "text": [
      "\n",
      "\n"
     ]
    }
   ],
   "source": [
    "from scipy.stats import norm, shapiro, pearsonr\n",
    "import random\n",
    "import math\n",
    "import matplotlib.pyplot as plt\n",
    "import seaborn as sns\n",
    "\n",
    "\n",
    "def analyze(dt, dt_name, tokenizer, model, score_func):\n",
    "    def confidence_print(value, threshold, lower=True):\n",
    "        if lower ^ (value >= threshold):\n",
    "            return f'\\033[1;38;2;255;0;0m{value:.2}\\033[0m (not pass)'\n",
    "        else:\n",
    "            return f'{value:.2} (pass)'\n",
    "\n",
    "    results = score_func(dt, tokenizer, model)\n",
    "    print('Dataset size:', len(dt))\n",
    "\n",
    "    r_loc, r_scale = norm.fit(results)\n",
    "    shapiro_p = shapiro(results)[1]\n",
    "    print('Normality test:')\n",
    "    print(f'Shapiro-Wilk test p-value: {confidence_print(shapiro_p, 0.05)}')\n",
    "    print()\n",
    "    print(f'% Positive: {sum(r > 0 for r in results) / len(dt):.3}')\n",
    "    print(f'Mean: {r_loc:.3}, Stdev {r_scale:.3}')\n",
    "    print('Stereotypity tests (confidence for >0 model):')\n",
    "\n",
    "    bootstrap = [sum(random.choices(results, k=len(results))) / len(results) for _ in range(10000)]\n",
    "    print(\n",
    "        f'Mean > 0 acc. boostrap distribution: {confidence_print(norm.cdf(0, *norm.fit(bootstrap)), 0.05, lower=False)}')\n",
    "    print(\n",
    "        f'Mean > 0 acc. boostrap frequency: {confidence_print(1 - (sum(b > 0 for b in bootstrap) / 10000), 0.05, lower=False)}')\n",
    "    r_scale /= math.sqrt(len(results))\n",
    "    print(f'Mean > 0 acc. standard error: {confidence_print(norm.cdf(0, loc=r_loc, scale=r_scale), 0.05, lower=False)}')\n",
    "\n",
    "    if score_func == our_score:\n",
    "        fig, axes = plt.subplots(1, 3, figsize=(15, 5))\n",
    "        sns.scatterplot(\n",
    "            x=[pair_score(s0, s1, tokenizer, model) for s0, s1, _, _ in dt],\n",
    "            y=[pair_score(s2, s3, tokenizer, model) for _, _, s2, s3 in dt],\n",
    "            ax=axes[2],\n",
    "        )\n",
    "        axes[2].plot([-5, 5], [-5, 5], color=\"black\", linestyle=(0, (5, 5)))\n",
    "    else:\n",
    "        fig, axes = plt.subplots(1, 2, figsize=(10, 5))\n",
    "    fig.suptitle(str([score_func.__name__, dt_name, model.name_or_path]))\n",
    "    sns.kdeplot(data=results, ax=axes[0])\n",
    "    sns.lineplot(x=results, y=norm.pdf(results, *norm.fit(results)), ax=axes[0])\n",
    "    sns.stripplot(x=bootstrap, ax=axes[1])\n",
    "    plt.show()\n",
    "    print()\n",
    "    print()\n",
    "\n",
    "for model_name in select_models.value:\n",
    "    model, tokenizer = model_init(model_name)\n",
    "    model = model.to('cuda:0')\n",
    "    \n",
    "    for dataset_name in select_datasets.value:\n",
    "        dataset = get_dataset_by_name(dataset_name, tokenizer)\n",
    "\n",
    "        for score_name in select_scores.value:\n",
    "            score = get_score_by_name(score_name)\n",
    "            analyze(dataset, dataset_name, tokenizer, model, score)"
   ]
  },
  {
   "cell_type": "code",
   "execution_count": null,
   "id": "f4d6026c-3a11-45bb-8ff7-74c5c69c533f",
   "metadata": {},
   "outputs": [],
   "source": []
  }
 ],
 "metadata": {
  "kernelspec": {
   "display_name": "Python 3 (ipykernel)",
   "language": "python",
   "name": "python3"
  },
  "language_info": {
   "codemirror_mode": {
    "name": "ipython",
    "version": 3
   },
   "file_extension": ".py",
   "mimetype": "text/x-python",
   "name": "python",
   "nbconvert_exporter": "python",
   "pygments_lexer": "ipython3",
   "version": "3.8.10"
  }
 },
 "nbformat": 4,
 "nbformat_minor": 5
}
