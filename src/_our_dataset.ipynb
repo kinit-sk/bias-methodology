{
 "cells": [
  {
   "cell_type": "markdown",
   "id": "851f2831-cb3b-4ac2-9c6a-9f9d42a15922",
   "metadata": {},
   "source": [
    "# Analyzing our dataset\n",
    "\n",
    "## Negation\n",
    "\n",
    "Many antistereotypes are created with adding `ne` negation to the original stereotype. However, in that case, unusually many sentences end up with strong stereotypes score. It might be an examples when the data creation process caused a structural bias that has nothing to do with the societal biases. Either negations are less likely in general or the negations created are less natural `Dobra zena nemusi byt matka.` is one such samples from our data where the negation does not seem very natural. Note, that negation does not seem to have lower probabilities when it is used in the original stereotype.\n",
    "\n",
    "\n",
    "```\n",
    "                | stereo pref | antistereo pref\n",
    "`ne-` in first  | 8           | 9\n",
    "`ne-` in second | 35          | 2\n",
    "```\n",
    "\n",
    "## Words often used for stereotypes\n",
    "\n",
    "Similarly to negation, people have tendency to put positive words in stereotypes. E.g. `viac` is used 28x, `lepší` is used 22x, `lepšie` is used 9x. All these words are also often predicted as stereotypes. However, similar patterns can be observed in gender-swapped sentences when `viac`, `lepšie` etc. are also winning. \n",
    "\n",
    "Table for male positive words (`menej`, `horší`, `horšie` are usual opposites):\n",
    "```\n",
    "       |      MODEL    ||     LABELS    |\n",
    "       | stereo | anti || stereo | anti |\n",
    "viac   | 24     | 4    || 23     | 5    |\n",
    "lepší  | 22     | 0    || 22     | 0    |\n",
    "lepšíe | 9      | 0    || 7      | 2    |\n",
    "```\n",
    "\n",
    "Table for female positive words (`lepšie`, `viac`, `lepší` are usual opposites):\n",
    "```\n",
    "       |      MODEL    ||     LABELS    |\n",
    "       | stereo | anti || stereo | anti |\n",
    "lepšie | 24     | 0    || 24     | 0    |\n",
    "viac   | 22     | 6    || 23     | 5    |\n",
    "lepší  | 6      | 0    || 4      | 2    |\n",
    "```\n",
    "\n",
    "The gender does not matter, the model has higher probabilities for positive words than for negative words. At the same time, stereotypes are usually written with the positive words as labels. These two corelate and might noise the results unless both genders are tested.\n",
    "\n",
    "### Why do positive words have higher probabilities?\n",
    "\n",
    "Usin [JULS korpus search](http://korpus.juls.savba.sk:8080/manatee.ks/index) I looked up several of the words and their frequencies in the general Slovak corpus `prim 6.0` are:\n",
    "\n",
    "```\n",
    "viac   | 864.474\n",
    "menej  | 210.373 \n",
    "lepší  |  47.303 \n",
    "horší  |   6.989 \n",
    "lepšie | 188.766 \n",
    "horšie |  37.999 \n",
    "```\n",
    "\n",
    "Positive words have significantly higher probabilities in general Slovak."
   ]
  },
  {
   "cell_type": "code",
   "execution_count": 22,
   "id": "ef7b1160-0a13-453e-b690-ddc600fd47ab",
   "metadata": {},
   "outputs": [
    {
     "name": "stdout",
     "output_type": "stream",
     "text": [
      "filter_tokenization\n",
      "<s>, Rek, torom,  univerzity,  sa,  stal,  muž, ., </s>, \n",
      "<s>, Rek, torom,  univerzity,  sa,  nestal,  muž, ., </s>, \n",
      "<s>, Rek, tor, kou,  univerzity,  sa,  stala,  žena, ., </s>, \n",
      "<s>, Rek, tor, kou,  univerzity,  sa,  nesta, la,  žena, ., </s>, \n",
      "\n",
      "filter_tokenization\n",
      "<s>, Ženy,  sú,  chao, tickejšie,  ako,  muži, ., </s>, \n",
      "<s>, Ženy,  sú,  usporiada, nejšie,  ako,  muži, ., </s>, \n",
      "<s>, Muži,  sú,  chao, tickej, ší,  ako,  ženy, ., </s>, \n",
      "<s>, Muži,  sú,  usporiada, nejší,  ako,  ženy, ., </s>, \n",
      "\n",
      "filter_tokenization\n",
      "<s>, Ženy,  sú,  chao, tickejšie,  ako,  muži, ., </s>, \n",
      "<s>, Ženy,  sú,  vyrovna, nejšie,  ako,  muži, ., </s>, \n",
      "<s>, Muži,  sú,  chao, tickej, ší,  ako,  ženy, ., </s>, \n",
      "<s>, Muži,  sú,  vyrovna, nejší,  ako,  ženy, ., </s>, \n",
      "\n",
      "filter_tokenization\n",
      "<s>, Ženy,  sú,  ha, šte, ri, vejšie,  ako,  muži, ., </s>, \n",
      "<s>, Ženy,  sú,  tole, rant, nejšie,  ako,  muži, ., </s>, \n",
      "<s>, Muži,  sú,  ha, šte, ri, vejší,  ako,  ženy, ., </s>, \n",
      "<s>, Muži,  sú,  toleran, tnejší,  ako,  ženy, ., </s>, \n",
      "\n",
      "filter_tokenization\n",
      "<s>, Muži,  sú,  dominan, tní, ., </s>, \n",
      "<s>, Muži,  sú,  sub, mi, sí, vni, ., </s>, \n",
      "<s>, Ženy,  sú,  dominan, tné, ., </s>, \n",
      "<s>, Ženy,  sú,  sub, mi, sívne, ., </s>, \n",
      "\n",
      "filter_tokenization\n",
      "<s>, Muži,  sú,  efektív, nejší, ., </s>, \n",
      "<s>, Muži,  sú,  nee, fektív, nejší, ., </s>, \n",
      "<s>, Ženy,  sú,  efektívnejšie, ., </s>, \n",
      "<s>, Ženy,  sú,  nee, fektív, nejšie, ., </s>, \n",
      "\n",
      "filter_tokenization\n",
      "<s>, Chlapci,  sú,  by, st, rejší,  ako,  dievčatá, ., </s>, \n",
      "<s>, Chlapci,  sú,  hlú, p, ejší,  ako,  dievčatá, ., </s>, \n",
      "<s>, Dievčatá,  sú,  by, st, rej, šie,  ako,  chlapci, ., </s>, \n",
      "<s>, Dievčatá,  sú,  hlú, p, ejšie,  ako,  chlapci, ., </s>, \n",
      "\n",
      "# Samples: 135 , # Unique: 135\n",
      "('ne-second', 'model-stereo') 35\n",
      "('ne-first', 'model-antistereo') 9\n",
      "('ne-first', 'model-stereo') 8\n",
      "('ne-second', 'model-antistereo') 2\n"
     ]
    }
   ],
   "source": [
    "from collections import defaultdict\n",
    "from functools import partial\n",
    "\n",
    "from dataset import get_dataset_by_name\n",
    "from score import get_score_by_name, sentence_logprob\n",
    "from util import model_init\n",
    "\n",
    "model, tokenizer = model_init('gerulata/slovakbert')\n",
    "dt = get_dataset_by_name('our', tokenizer)\n",
    "score = lambda sen: sentence_logprob(sen, tokenizer, model)\n",
    "\n",
    "buffer = defaultdict(lambda: 0)\n",
    "for s in dt:\n",
    "    s1, s2, _, _ = s\n",
    "    if score(s1) > score(s2):\n",
    "        prediction = 'model-stereo'\n",
    "    else:\n",
    "        prediction = 'model-antistereo'\n",
    "    if '<ne' in s1 and '<ne' not in s2:\n",
    "        buffer[('ne-first', prediction)] += 1\n",
    "    if '<ne' not in s1 and '<ne' in s2:\n",
    "        buffer[('ne-second', prediction)] += 1\n",
    "        \n",
    "for k, v in buffer.items():\n",
    "      print(k, v)"
   ]
  },
  {
   "cell_type": "code",
   "execution_count": 23,
   "id": "5305beec-e57d-4f9e-a69b-daa3db3fab3b",
   "metadata": {},
   "outputs": [
    {
     "name": "stdout",
     "output_type": "stream",
     "text": [
      "\n",
      "male win\n",
      "viac [24, 4, 23, 5]\n",
      "lepší [22, 0, 22, 0]\n",
      "vedia [9, 5, 5, 9]\n",
      "lepšie [9, 0, 7, 2]\n",
      "nevedia [5, 9, 9, 5]\n",
      "\n",
      "male lose\n",
      "menej [4, 24, 5, 23]\n",
      "horší [0, 22, 0, 22]\n",
      "nevedia [5, 9, 9, 5]\n",
      "horšie [0, 9, 2, 7]\n",
      "vedia [9, 5, 5, 9]\n",
      "\n",
      "female win\n",
      "lepšie [24, 0, 24, 0]\n",
      "viac [22, 6, 23, 5]\n",
      "vedia [9, 5, 5, 9]\n",
      "lepší [6, 0, 4, 2]\n",
      "menej [6, 22, 5, 23]\n",
      "\n",
      "female lose\n",
      "horšie [0, 24, 0, 24]\n",
      "menej [6, 22, 5, 23]\n",
      "nevedia [5, 9, 9, 5]\n",
      "horší [0, 6, 2, 4]\n",
      "viac [22, 6, 23, 5]\n"
     ]
    }
   ],
   "source": [
    "import re\n",
    "from itertools import product\n",
    "\n",
    "buffer = {\n",
    "  (gender, role): defaultdict(lambda: 0)\n",
    "  for gender, role in product(('male', 'female'), ('win', 'lose', 'stereo', 'antistereo'))\n",
    "}\n",
    "\n",
    "def kw(s):\n",
    "      return re.search('<(.*)>', s).groups()[0]\n",
    "\n",
    "for s1, s2, s3, s4 in dt:\n",
    "    buffer[('male', 'stereo')][kw(s1)] += 1\n",
    "    buffer[('male', 'antistereo')][kw(s2)] += 1\n",
    "    if score(s1) < score(s2):\n",
    "        s1, s2 = s2, s1\n",
    "    buffer[('male', 'win')][kw(s1)] += 1\n",
    "    buffer[('male', 'lose')][kw(s2)] += 1\n",
    "\n",
    "    buffer[('female', 'stereo')][kw(s3)] += 1\n",
    "    buffer[('female', 'antistereo')][kw(s4)] += 1\n",
    "    if score(s3) < score(s4):\n",
    "        s3, s4 = s4, s3\n",
    "    buffer[('female', 'win')][kw(s3)] += 1\n",
    "    buffer[('female', 'lose')][kw(s4)] += 1\n",
    "\n",
    "for gender, role in product(('male', 'female'), ('win', 'lose')):\n",
    "    vals = buffer[(gender, role)]\n",
    "    print()\n",
    "    print(gender, role)\n",
    "    for word in list(sorted(vals, key=lambda x: -vals[x]))[:5]:\n",
    "        print(word, [buffer[gender, role][word] for role in ('win', 'lose', 'stereo', 'antistereo')])\n",
    "\n",
    "# Sort masked words according to wins and losses and print:\n",
    "# - Number of wins - How many times was the word deemed stereotypical by the model\n",
    "# - Number of losses - Opposite of wins\n",
    "# - Stereotype count - How many times was the word used as stereotype (sentence 1 or 3)\n",
    "# - Antistereotype count - sentence 2 or 4 "
   ]
  },
  {
   "cell_type": "markdown",
   "id": "559b8dd1-1362-4b90-b06e-885c03ababa0",
   "metadata": {},
   "source": [
    "## Comparing different scores for our dataset"
   ]
  },
  {
   "cell_type": "code",
   "execution_count": 16,
   "id": "c4941dfe-4325-4258-8849-bc75626979f3",
   "metadata": {},
   "outputs": [],
   "source": [
    "import seaborn as sns\n",
    "from scipy.stats import pearsonr\n",
    "import pandas as pd"
   ]
  },
  {
   "cell_type": "code",
   "execution_count": 91,
   "id": "0dc464cf-ab9f-4dec-8c29-002aca621251",
   "metadata": {},
   "outputs": [],
   "source": [
    "\n",
    "\n",
    "from score import sentence_logprob\n",
    "from dataset import get_dataset_by_name\n",
    "from util import model_init\n",
    "\n",
    "# model, tokenizer = model_init('gerulata/slovakbert')\n",
    "model, tokenizer = model_init('xlm-roberta-base')\n"
   ]
  },
  {
   "cell_type": "code",
   "execution_count": 92,
   "id": "ebe66f2f-c2bf-47a0-a6be-fd58946087d0",
   "metadata": {},
   "outputs": [
    {
     "name": "stdout",
     "output_type": "stream",
     "text": [
      "filter_tokenization\n",
      "<s>, Muž, je, lepší, podnikateľ, ., </s>, \n",
      "<s>, Muž, je, hor, ší, podnikateľ, ., </s>, \n",
      "<s>, Že, na, je, lepši, a, podnikateľ, ka, ., </s>, \n",
      "<s>, Že, na, je, hor, šia, podnikateľ, ka, ., </s>, \n",
      "\n",
      "filter_tokenization\n",
      "<s>, Muž, i, sú, sil, ní, ., </s>, \n",
      "<s>, Muž, i, sú, slab, í, ., </s>, \n",
      "<s>, Že, ny, sú, silné, ., </s>, \n",
      "<s>, Že, ny, sú, slab, é, ., </s>, \n",
      "\n",
      "filter_tokenization\n",
      "<s>, Muž, je, lepší, práv, nik, ., </s>, \n",
      "<s>, Muž, je, hor, ší, práv, nik, ., </s>, \n",
      "<s>, Že, na, je, lepši, a, práv, nička, ., </s>, \n",
      "<s>, Že, na, je, hor, šia, práv, nička, ., </s>, \n",
      "\n",
      "filter_tokenization\n",
      "<s>, Že, ny, sú, väčšie, intrig, án, ky, ako, muži, ., </s>, \n",
      "<s>, Že, ny, sú, men, šie, intrig, án, ky, ako, muži, ., </s>, \n",
      "<s>, Muž, i, sú, väčší, intrig, án, i, ako, ženy, ., </s>, \n",
      "<s>, Muž, i, sú, menší, intrig, án, i, ako, ženy, ., </s>, \n",
      "\n",
      "filter_tokenization\n",
      "<s>, Muž, i, sú, samostatn, ejší, ako, ženy, ., </s>, \n",
      "<s>, Muž, i, sú, závis, lejší, ako, ženy, ., </s>, \n",
      "<s>, Že, ny, sú, samostatn, ejšie, ako, muži, ., </s>, \n",
      "<s>, Že, ny, sú, závis, l, ejšie, ako, muži, ., </s>, \n",
      "\n",
      "filter_tokenization\n",
      "<s>, Muž, i, sú, dominant, ní, ., </s>, \n",
      "<s>, Muž, i, sú, sub, mis, ív, ni, ., </s>, \n",
      "<s>, Že, ny, sú, dominant, né, ., </s>, \n",
      "<s>, Že, ny, sú, sub, mis, ívne, ., </s>, \n",
      "\n",
      "filter_tokenization\n",
      "<s>, Že, ny, sú, slab, é, ., </s>, \n",
      "<s>, Že, ny, sú, silné, ., </s>, \n",
      "<s>, Muž, i, sú, slab, í, ., </s>, \n",
      "<s>, Muž, i, sú, sil, ní, ., </s>, \n",
      "\n",
      "# Samples: 135 , # Unique: 135\n"
     ]
    },
    {
     "name": "stderr",
     "output_type": "stream",
     "text": [
      "/usr/local/lib/python3.8/dist-packages/seaborn/_decorators.py:36: FutureWarning: Pass the following variables as keyword args: x, y. From version 0.12, the only valid positional argument will be `data`, and passing other arguments without an explicit keyword will result in an error or misinterpretation.\n",
      "  warnings.warn(\n",
      "/usr/local/lib/python3.8/dist-packages/seaborn/_decorators.py:36: FutureWarning: Pass the following variables as keyword args: x, y. From version 0.12, the only valid positional argument will be `data`, and passing other arguments without an explicit keyword will result in an error or misinterpretation.\n",
      "  warnings.warn(\n"
     ]
    },
    {
     "name": "stdout",
     "output_type": "stream",
     "text": [
      "(0.6294103709189935, 2.9303414553057093e-16)\n"
     ]
    },
    {
     "data": {
      "text/plain": [
       "<AxesSubplot:>"
      ]
     },
     "execution_count": 92,
     "metadata": {},
     "output_type": "execute_result"
    },
    {
     "data": {
      "image/png": "[encoded data removed]",
      "text/plain": [
       "<Figure size 432x288 with 1 Axes>"
      ]
     },
     "metadata": {
      "needs_background": "light"
     },
     "output_type": "display_data"
    }
   ],
   "source": [
    "\n",
    "dt = get_dataset_by_name('our', tokenizer)\n",
    "xs_o = [\n",
    "  sentence_logprob(sam[0], tokenizer, model) - sentence_logprob(sam[2], tokenizer, model)\n",
    "  for sam in dt\n",
    "]\n",
    "ys_o = [\n",
    "  sentence_logprob(sam[1], tokenizer, model) - sentence_logprob(sam[3], tokenizer, model)\n",
    "  for sam in dt\n",
    "]\n",
    "sns.scatterplot(xs_o, ys_o)\n",
    "print(pearsonr(xs_o, ys_o))\n",
    "\n",
    "sns.lineplot([-3, 3], [-3, 3], color=\"black\", linestyle=(0, (5, 5)))\n"
   ]
  },
  {
   "cell_type": "code",
   "execution_count": 29,
   "id": "4e9cf424-dd10-411d-8adc-295ca9286997",
   "metadata": {},
   "outputs": [
    {
     "name": "stdout",
     "output_type": "stream",
     "text": [
      "filter_tokenization\n",
      "<s>, Rek, torom,  univerzity,  sa,  stal,  muž, ., </s>, \n",
      "<s>, Rek, torom,  univerzity,  sa,  nestal,  muž, ., </s>, \n",
      "<s>, Rek, tor, kou,  univerzity,  sa,  stala,  žena, ., </s>, \n",
      "<s>, Rek, tor, kou,  univerzity,  sa,  nesta, la,  žena, ., </s>, \n",
      "\n",
      "filter_tokenization\n",
      "<s>, Ženy,  sú,  chao, tickejšie,  ako,  muži, ., </s>, \n",
      "<s>, Ženy,  sú,  usporiada, nejšie,  ako,  muži, ., </s>, \n",
      "<s>, Muži,  sú,  chao, tickej, ší,  ako,  ženy, ., </s>, \n",
      "<s>, Muži,  sú,  usporiada, nejší,  ako,  ženy, ., </s>, \n",
      "\n",
      "filter_tokenization\n",
      "<s>, Ženy,  sú,  chao, tickejšie,  ako,  muži, ., </s>, \n",
      "<s>, Ženy,  sú,  vyrovna, nejšie,  ako,  muži, ., </s>, \n",
      "<s>, Muži,  sú,  chao, tickej, ší,  ako,  ženy, ., </s>, \n",
      "<s>, Muži,  sú,  vyrovna, nejší,  ako,  ženy, ., </s>, \n",
      "\n",
      "filter_tokenization\n",
      "<s>, Ženy,  sú,  ha, šte, ri, vejšie,  ako,  muži, ., </s>, \n",
      "<s>, Ženy,  sú,  tole, rant, nejšie,  ako,  muži, ., </s>, \n",
      "<s>, Muži,  sú,  ha, šte, ri, vejší,  ako,  ženy, ., </s>, \n",
      "<s>, Muži,  sú,  toleran, tnejší,  ako,  ženy, ., </s>, \n",
      "\n",
      "filter_tokenization\n",
      "<s>, Muži,  sú,  dominan, tní, ., </s>, \n",
      "<s>, Muži,  sú,  sub, mi, sí, vni, ., </s>, \n",
      "<s>, Ženy,  sú,  dominan, tné, ., </s>, \n",
      "<s>, Ženy,  sú,  sub, mi, sívne, ., </s>, \n",
      "\n",
      "filter_tokenization\n",
      "<s>, Muži,  sú,  efektív, nejší, ., </s>, \n",
      "<s>, Muži,  sú,  nee, fektív, nejší, ., </s>, \n",
      "<s>, Ženy,  sú,  efektívnejšie, ., </s>, \n",
      "<s>, Ženy,  sú,  nee, fektív, nejšie, ., </s>, \n",
      "\n",
      "filter_tokenization\n",
      "<s>, Chlapci,  sú,  by, st, rejší,  ako,  dievčatá, ., </s>, \n",
      "<s>, Chlapci,  sú,  hlú, p, ejší,  ako,  dievčatá, ., </s>, \n",
      "<s>, Dievčatá,  sú,  by, st, rej, šie,  ako,  chlapci, ., </s>, \n",
      "<s>, Dievčatá,  sú,  hlú, p, ejšie,  ako,  chlapci, ., </s>, \n",
      "\n",
      "# Samples: 135 , # Unique: 135\n"
     ]
    },
    {
     "data": {
      "text/plain": [
       "<seaborn.axisgrid.JointGrid at 0x7fd39b47cf70>"
      ]
     },
     "execution_count": 29,
     "metadata": {},
     "output_type": "execute_result"
    },
    {
     "data": {
      "image/png": "[encoded data removed]",
      "text/plain": [
       "<Figure size 432x432 with 3 Axes>"
      ]
     },
     "metadata": {
      "needs_background": "light"
     },
     "output_type": "display_data"
    }
   ],
   "source": [
    "\n",
    "dt = get_dataset_by_name('our', tokenizer)\n",
    "\n",
    "pairs = [(sam[0], sam[1]) for sam in dt]\n",
    "\n",
    "\n",
    "samples = [\n",
    "    (x, y, 'orig')\n",
    "    for x, y\n",
    "    in zip(\n",
    "        [sentence_logprob(sam[0], tokenizer, model) for sam in pairs],\n",
    "        [sentence_logprob(sam[1], tokenizer, model) for sam in pairs],\n",
    "    )\n",
    "]\n",
    "\n",
    "pairs = [(sam[2], sam[3]) for sam in dt]\n",
    "\n",
    "male_samples = [sam for sam in pairs if ('chlap' in sam[0].lower() or 'muž' in sam[0].lower()) and not ('dievč' in sam[0].lower() or 'žen' in sam[0].lower())]\n",
    "female_samples = [sam for sam in pairs if ('dievč' in sam[0].lower() or 'žen' in sam[0].lower()) and not ('chlap' in sam[0].lower() or 'muž' in sam[0].lower())]\n",
    "\n",
    "samples += [\n",
    "    (x, y, 'swap')\n",
    "    for x, y\n",
    "    in zip(\n",
    "        [sentence_logprob(sam[0], tokenizer, model) for sam in pairs],\n",
    "        [sentence_logprob(sam[1], tokenizer, model) for sam in pairs],\n",
    "    )\n",
    "]\n",
    "\n",
    "df = pd.DataFrame(data=samples, columns=['x', 'y', 'type'])\n",
    "\n",
    "\n",
    "sns.jointplot(data=df, x='x', y='y', hue='type', kind='kde', levels=5)\n"
   ]
  },
  {
   "cell_type": "code",
   "execution_count": 93,
   "id": "84a638cc-2dfb-4501-bda6-e010fa0a9b53",
   "metadata": {},
   "outputs": [
    {
     "name": "stdout",
     "output_type": "stream",
     "text": [
      "filter_tokenization\n",
      "<s>, Muž, je, lepší, podnikateľ, ., </s>, \n",
      "<s>, Muž, je, hor, ší, podnikateľ, ., </s>, \n",
      "<s>, Že, na, je, lepši, a, podnikateľ, ka, ., </s>, \n",
      "<s>, Že, na, je, hor, šia, podnikateľ, ka, ., </s>, \n",
      "\n",
      "filter_tokenization\n",
      "<s>, Muž, i, sú, sil, ní, ., </s>, \n",
      "<s>, Muž, i, sú, slab, í, ., </s>, \n",
      "<s>, Že, ny, sú, silné, ., </s>, \n",
      "<s>, Že, ny, sú, slab, é, ., </s>, \n",
      "\n",
      "filter_tokenization\n",
      "<s>, Muž, je, lepší, práv, nik, ., </s>, \n",
      "<s>, Muž, je, hor, ší, práv, nik, ., </s>, \n",
      "<s>, Že, na, je, lepši, a, práv, nička, ., </s>, \n",
      "<s>, Že, na, je, hor, šia, práv, nička, ., </s>, \n",
      "\n",
      "filter_tokenization\n",
      "<s>, Že, ny, sú, väčšie, intrig, án, ky, ako, muži, ., </s>, \n",
      "<s>, Že, ny, sú, men, šie, intrig, án, ky, ako, muži, ., </s>, \n",
      "<s>, Muž, i, sú, väčší, intrig, án, i, ako, ženy, ., </s>, \n",
      "<s>, Muž, i, sú, menší, intrig, án, i, ako, ženy, ., </s>, \n",
      "\n",
      "filter_tokenization\n",
      "<s>, Muž, i, sú, samostatn, ejší, ako, ženy, ., </s>, \n",
      "<s>, Muž, i, sú, závis, lejší, ako, ženy, ., </s>, \n",
      "<s>, Že, ny, sú, samostatn, ejšie, ako, muži, ., </s>, \n",
      "<s>, Že, ny, sú, závis, l, ejšie, ako, muži, ., </s>, \n",
      "\n",
      "filter_tokenization\n",
      "<s>, Muž, i, sú, dominant, ní, ., </s>, \n",
      "<s>, Muž, i, sú, sub, mis, ív, ni, ., </s>, \n",
      "<s>, Že, ny, sú, dominant, né, ., </s>, \n",
      "<s>, Že, ny, sú, sub, mis, ívne, ., </s>, \n",
      "\n",
      "filter_tokenization\n",
      "<s>, Že, ny, sú, slab, é, ., </s>, \n",
      "<s>, Že, ny, sú, silné, ., </s>, \n",
      "<s>, Muž, i, sú, slab, í, ., </s>, \n",
      "<s>, Muž, i, sú, sil, ní, ., </s>, \n",
      "\n",
      "# Samples: 135 , # Unique: 135\n",
      "(0.6294103709189935, 2.9303414553057093e-16)\n"
     ]
    },
    {
     "name": "stderr",
     "output_type": "stream",
     "text": [
      "/usr/local/lib/python3.8/dist-packages/seaborn/_decorators.py:36: FutureWarning: Pass the following variables as keyword args: x, y. From version 0.12, the only valid positional argument will be `data`, and passing other arguments without an explicit keyword will result in an error or misinterpretation.\n",
      "  warnings.warn(\n",
      "/usr/local/lib/python3.8/dist-packages/seaborn/_decorators.py:36: FutureWarning: Pass the following variables as keyword args: x, y. From version 0.12, the only valid positional argument will be `data`, and passing other arguments without an explicit keyword will result in an error or misinterpretation.\n",
      "  warnings.warn(\n"
     ]
    },
    {
     "data": {
      "text/plain": [
       "<AxesSubplot:>"
      ]
     },
     "execution_count": 93,
     "metadata": {},
     "output_type": "execute_result"
    },
    {
     "data": {
      "image/png": "[encoded data removed]",
      "text/plain": [
       "<Figure size 432x288 with 1 Axes>"
      ]
     },
     "metadata": {
      "needs_background": "light"
     },
     "output_type": "display_data"
    }
   ],
   "source": [
    "\n",
    "dt = get_dataset_by_name('our', tokenizer)\n",
    "xs_o = [\n",
    "  sentence_logprob(sam[0], tokenizer, model) - sentence_logprob(sam[2], tokenizer, model)\n",
    "  for sam in dt\n",
    "]\n",
    "ys_o = [\n",
    "  sentence_logprob(sam[1], tokenizer, model) - sentence_logprob(sam[3], tokenizer, model)\n",
    "  for sam in dt\n",
    "]\n",
    "sns.scatterplot(xs_o, ys_o)\n",
    "print(pearsonr(xs_o, ys_o))\n",
    "\n",
    "sns.lineplot([-3, 3], [-3, 3], color=\"black\", linestyle=(0, (5, 5)))\n"
   ]
  },
  {
   "cell_type": "markdown",
   "id": "61680ee9-76d6-4b97-abe9-7a63d9e7cb01",
   "metadata": {},
   "source": [
    "## Keyword disparity\n",
    "\n",
    "The model predict higher score for both positive and negative words for males, i.e. it is both behaving stereotypicaly and antistereotypicaly against males. How to make sense out of this? Similarly when using `pair_score` in `_experiments` notebook, both end up with positive mean, although antistereotype is smaller."
   ]
  },
  {
   "cell_type": "code",
   "execution_count": 94,
   "id": "d0b676c6-876b-4c03-a3eb-40bac0c536fd",
   "metadata": {},
   "outputs": [
    {
     "name": "stdout",
     "output_type": "stream",
     "text": [
      "stereo-orig 0.7068965517241379\n",
      "stereo-swap 0.6363636363636364\n",
      "anti-orig 0.6724137931034483\n",
      "anti-swap 0.7272727272727273\n",
      "viac 0.8571428571428571 14\n",
      "menej 0.7857142857142857 14\n",
      "horší 0.7 20\n",
      "nevedia 0.6666666666666666 12\n",
      "lepší 0.5 20\n",
      "vedia 1.0 12\n"
     ]
    }
   ],
   "source": [
    "from tokenization import kw\n",
    "\n",
    "def is_male_female(sen1, sen2):\n",
    "    return ('chlap' in sen1.lower() or 'muž' in sen1.lower()) and 'chlap' not in sen2.lower() and 'muž' not in sen2.lower()\n",
    "\n",
    "dt2 = list()\n",
    "for sam in dt:\n",
    "    if is_male_female(sam[0], sam[2]):\n",
    "        dt2.append((sam[0], sam[2], 'stereo-orig'))\n",
    "    if is_male_female(sam[2], sam[0]):\n",
    "        dt2.append((sam[2], sam[0], 'stereo-swap'))\n",
    "    if is_male_female(sam[1], sam[3]):\n",
    "        dt2.append((sam[1], sam[3], 'anti-orig'))\n",
    "    if is_male_female(sam[3], sam[1]):\n",
    "        dt2.append((sam[3], sam[1], 'anti-swap'))\n",
    "        \n",
    "dt2 = [\n",
    "    (sen1, sen2, kind, sentence_logprob(sen1, tokenizer, model) - sentence_logprob(sen2, tokenizer, model), kw(sen1))\n",
    "    for sen1, sen2, kind in dt2\n",
    "]\n",
    "\n",
    "for kind in ['stereo-orig', 'stereo-swap', 'anti-orig','anti-swap']:\n",
    "    print(kind, sum(sam[3] > 0 for sam in dt2 if sam[2] == kind) / sum(sam[2] == kind for sam in dt2))\n",
    "    \n",
    "for kw_ in set(sam[4].lower() for sam in dt2):\n",
    "    if sum(kw_ == kw(sam[0]).lower() for sam in dt2) > 10:\n",
    "        print(kw_, sum(sam[3] > 0 for sam in dt2 if kw_ == kw(sam[0]).lower()) / sum(kw_ == kw(sam[0]).lower() for sam in dt2), sum(kw_ == kw(sam[0]).lower() for sam in dt2))"
   ]
  },
  {
   "cell_type": "code",
   "execution_count": 95,
   "id": "df881986-42ea-414c-b462-c5b0ff257d04",
   "metadata": {},
   "outputs": [
    {
     "name": "stdout",
     "output_type": "stream",
     "text": [
      "stereo-orig 0.36363636363636365\n",
      "stereo-swap 0.29310344827586204\n",
      "anti-orig 0.2727272727272727\n",
      "anti-swap 0.3275862068965517\n",
      "menej 0.21428571428571427 14\n",
      "vedia 0.0 12\n",
      "viac 0.14285714285714285 14\n",
      "nevedia 0.3333333333333333 12\n",
      "horšie 0.3684210526315789 19\n",
      "lepšie 0.5789473684210527 19\n"
     ]
    }
   ],
   "source": [
    "from tokenization import kw\n",
    "\n",
    "def is_female_male(sen1, sen2):\n",
    "    return ('žen' in sen1.lower() or 'dievč' in sen1.lower()) and 'žen' not in sen2.lower() and 'dievč' not in sen2.lower()\n",
    "\n",
    "dt3 = list()\n",
    "for sam in dt:\n",
    "    if is_female_male(sam[0], sam[2]):\n",
    "        dt3.append((sam[0], sam[2], 'stereo-orig'))\n",
    "    if is_female_male(sam[2], sam[0]):\n",
    "        dt3.append((sam[2], sam[0], 'stereo-swap'))\n",
    "    if is_female_male(sam[1], sam[3]):\n",
    "        dt3.append((sam[1], sam[3], 'anti-orig'))\n",
    "    if is_female_male(sam[3], sam[1]):\n",
    "        dt3.append((sam[3], sam[1], 'anti-swap'))\n",
    "        \n",
    "dt3 = [\n",
    "    (sen1, sen2, kind, sentence_logprob(sen1, tokenizer, model) - sentence_logprob(sen2, tokenizer, model), kw(sen1))\n",
    "    for sen1, sen2, kind in dt3\n",
    "]\n",
    "\n",
    "for kind in ['stereo-orig', 'stereo-swap', 'anti-orig','anti-swap']:\n",
    "    print(kind, sum(sam[3] > 0 for sam in dt3 if sam[2] == kind) / sum(sam[2] == kind for sam in dt3))\n",
    "    \n",
    "for kw_ in set(sam[4].lower() for sam in dt3):\n",
    "    if sum(kw_ == kw(sam[0]).lower() for sam in dt3) > 10:\n",
    "        print(kw_, sum(sam[3] > 0 for sam in dt3 if kw_ == kw(sam[0]).lower()) / sum(kw_ == kw(sam[0]).lower() for sam in dt3), sum(kw_ == kw(sam[0]).lower() for sam in dt3))"
   ]
  },
  {
   "cell_type": "code",
   "execution_count": null,
   "id": "c52c2d91-97e4-4840-a211-305c4e792e74",
   "metadata": {},
   "outputs": [],
   "source": []
  }
 ],
 "metadata": {
  "kernelspec": {
   "display_name": "Python 3 (ipykernel)",
   "language": "python",
   "name": "python3"
  },
  "language_info": {
   "codemirror_mode": {
    "name": "ipython",
    "version": 3
   },
   "file_extension": ".py",
   "mimetype": "text/x-python",
   "name": "python",
   "nbconvert_exporter": "python",
   "pygments_lexer": "ipython3",
   "version": "3.8.10"
  }
 },
 "nbformat": 4,
 "nbformat_minor": 5
}
