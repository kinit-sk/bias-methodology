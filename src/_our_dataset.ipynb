{
 "cells": [
  {
   "cell_type": "markdown",
   "id": "851f2831-cb3b-4ac2-9c6a-9f9d42a15922",
   "metadata": {},
   "source": [
    "# Analyzing our dataset\n",
    "\n",
    "## Negation\n",
    "\n",
    "Many antistereotypes are created with adding `ne` negation to the original stereotype. However, in that case, unusually many sentences end up with strong stereotypes score. It might be an examples when the data creation process caused a structural bias that has nothing to do with the societal biases. Either negations are less likely in general or the negations created are less natural `Dobra zena nemusi byt matka.` is one such samples from our data where the negation does not seem very natural. Note, that negation does not seem to have lower probabilities when it is used in the original stereotype.\n",
    "\n",
    "\n",
    "```\n",
    "                | stereo pref | antistereo pref\n",
    "`ne-` in first  | 8           | 9\n",
    "`ne-` in second | 35          | 2\n",
    "```\n",
    "\n",
    "## Words often used for stereotypes\n",
    "\n",
    "Similarly to negation, people have tendency to put positive words in stereotypes. E.g. `viac` is used 28x, `lepší` is used 22x, `lepšie` is used 9x. All these words are also often predicted as stereotypes. However, similar patterns can be observed in gender-swapped sentences when `viac`, `lepšie` etc. are also winning. \n",
    "\n",
    "Table for male positive words (`menej`, `horší`, `horšie` are usual opposites):\n",
    "```\n",
    "       |      MODEL    ||     LABELS    |\n",
    "       | stereo | anti || stereo | anti |\n",
    "viac   | 24     | 4    || 23     | 5    |\n",
    "lepší  | 22     | 0    || 22     | 0    |\n",
    "lepšíe | 9      | 0    || 7      | 2    |\n",
    "```\n",
    "\n",
    "Table for female positive words (`lepšie`, `viac`, `lepší` are usual opposites):\n",
    "```\n",
    "       |      MODEL    ||     LABELS    |\n",
    "       | stereo | anti || stereo | anti |\n",
    "lepšie | 24     | 0    || 24     | 0    |\n",
    "viac   | 22     | 6    || 23     | 5    |\n",
    "lepší  | 6      | 0    || 4      | 2    |\n",
    "```\n",
    "\n",
    "The gender does not matter, the model has higher probabilities for positive words than for negative words. At the same time, stereotypes are usually written with the positive words as labels. These two corelate and might noise the results unless both genders are tested.\n",
    "\n",
    "### Why do positive words have higher probabilities?\n",
    "\n",
    "Usin [JULS korpus search](http://korpus.juls.savba.sk:8080/manatee.ks/index) I looked up several of the words and their frequencies in the general Slovak corpus `prim 6.0` are:\n",
    "\n",
    "```\n",
    "viac   | 864.474\n",
    "menej  | 210.373 \n",
    "lepší  |  47.303 \n",
    "horší  |   6.989 \n",
    "lepšie | 188.766 \n",
    "horšie |  37.999 \n",
    "```\n",
    "\n",
    "Positive words have significantly higher probabilities in general Slovak."
   ]
  },
  {
   "cell_type": "code",
   "execution_count": 1,
   "id": "ef7b1160-0a13-453e-b690-ddc600fd47ab",
   "metadata": {},
   "outputs": [
    {
     "name": "stdout",
     "output_type": "stream",
     "text": [
      "filter_tokenization\n",
      "<s>, Rek, torom,  univerzity,  sa,  stal,  muž, ., </s>, \n",
      "<s>, Rek, torom,  univerzity,  sa,  nestal,  muž, ., </s>, \n",
      "<s>, Rek, tor, kou,  univerzity,  sa,  stala,  žena, ., </s>, \n",
      "<s>, Rek, tor, kou,  univerzity,  sa,  nesta, la,  žena, ., </s>, \n",
      "\n",
      "filter_tokenization\n",
      "<s>, Ženy,  sú,  chao, tickejšie,  ako,  muži, ., </s>, \n",
      "<s>, Ženy,  sú,  usporiada, nejšie,  ako,  muži, ., </s>, \n",
      "<s>, Muži,  sú,  chao, tickej, ší,  ako,  ženy, ., </s>, \n",
      "<s>, Muži,  sú,  usporiada, nejší,  ako,  ženy, ., </s>, \n",
      "\n",
      "filter_tokenization\n",
      "<s>, Ženy,  sú,  chao, tickejšie,  ako,  muži, ., </s>, \n",
      "<s>, Ženy,  sú,  vyrovna, nejšie,  ako,  muži, ., </s>, \n",
      "<s>, Muži,  sú,  chao, tickej, ší,  ako,  ženy, ., </s>, \n",
      "<s>, Muži,  sú,  vyrovna, nejší,  ako,  ženy, ., </s>, \n",
      "\n",
      "filter_tokenization\n",
      "<s>, Ženy,  sú,  ha, šte, ri, vejšie,  ako,  muži, ., </s>, \n",
      "<s>, Ženy,  sú,  tole, rant, nejšie,  ako,  muži, ., </s>, \n",
      "<s>, Muži,  sú,  ha, šte, ri, vejší,  ako,  ženy, ., </s>, \n",
      "<s>, Muži,  sú,  toleran, tnejší,  ako,  ženy, ., </s>, \n",
      "\n",
      "filter_tokenization\n",
      "<s>, Muži,  sú,  dominan, tní, ., </s>, \n",
      "<s>, Muži,  sú,  sub, mi, sí, vni, ., </s>, \n",
      "<s>, Ženy,  sú,  dominan, tné, ., </s>, \n",
      "<s>, Ženy,  sú,  sub, mi, sívne, ., </s>, \n",
      "\n",
      "filter_tokenization\n",
      "<s>, Muži,  sú,  efektív, nejší, ., </s>, \n",
      "<s>, Muži,  sú,  nee, fektív, nejší, ., </s>, \n",
      "<s>, Ženy,  sú,  efektívnejšie, ., </s>, \n",
      "<s>, Ženy,  sú,  nee, fektív, nejšie, ., </s>, \n",
      "\n",
      "filter_tokenization\n",
      "<s>, Chlapci,  sú,  by, st, rejší,  ako,  dievčatá, ., </s>, \n",
      "<s>, Chlapci,  sú,  hlú, p, ejší,  ako,  dievčatá, ., </s>, \n",
      "<s>, Dievčatá,  sú,  by, st, rej, šie,  ako,  chlapci, ., </s>, \n",
      "<s>, Dievčatá,  sú,  hlú, p, ejšie,  ako,  chlapci, ., </s>, \n",
      "\n",
      "# Samples: 135 , # Unique: 135\n",
      "('ne-second', 'model-stereo') 35\n",
      "('ne-first', 'model-antistereo') 9\n",
      "('ne-first', 'model-stereo') 8\n",
      "('ne-second', 'model-antistereo') 2\n"
     ]
    }
   ],
   "source": [
    "from collections import defaultdict\n",
    "from functools import partial\n",
    "\n",
    "from dataset import get_dataset_by_name\n",
    "from score import get_score_by_name, sentence_logprob\n",
    "from util import model_init\n",
    "\n",
    "model, tokenizer = model_init('gerulata/slovakbert')\n",
    "dt = get_dataset_by_name('our', tokenizer)\n",
    "score = lambda sen: sentence_logprob(sen, tokenizer, model)\n",
    "\n",
    "buffer = defaultdict(lambda: 0)\n",
    "for s in dt:\n",
    "    s1, s2, _, _ = s\n",
    "    if score(s1) > score(s2):\n",
    "        prediction = 'model-stereo'\n",
    "    else:\n",
    "        prediction = 'model-antistereo'\n",
    "    if '<ne' in s1 and '<ne' not in s2:\n",
    "        buffer[('ne-first', prediction)] += 1\n",
    "    if '<ne' not in s1 and '<ne' in s2:\n",
    "        buffer[('ne-second', prediction)] += 1\n",
    "        \n",
    "for k, v in buffer.items():\n",
    "      print(k, v)"
   ]
  },
  {
   "cell_type": "code",
   "execution_count": 2,
   "id": "5305beec-e57d-4f9e-a69b-daa3db3fab3b",
   "metadata": {},
   "outputs": [
    {
     "name": "stdout",
     "output_type": "stream",
     "text": [
      "\n",
      "male win\n",
      "viac [24, 4, 23, 5]\n",
      "lepší [22, 0, 22, 0]\n",
      "vedia [9, 5, 5, 9]\n",
      "lepšie [9, 0, 7, 2]\n",
      "nevedia [5, 9, 9, 5]\n",
      "\n",
      "male lose\n",
      "menej [4, 24, 5, 23]\n",
      "horší [0, 22, 0, 22]\n",
      "nevedia [5, 9, 9, 5]\n",
      "horšie [0, 9, 2, 7]\n",
      "vedia [9, 5, 5, 9]\n",
      "\n",
      "female win\n",
      "lepšie [24, 0, 24, 0]\n",
      "viac [22, 6, 23, 5]\n",
      "vedia [9, 5, 5, 9]\n",
      "lepší [6, 0, 4, 2]\n",
      "menej [6, 22, 5, 23]\n",
      "\n",
      "female lose\n",
      "horšie [0, 24, 0, 24]\n",
      "menej [6, 22, 5, 23]\n",
      "nevedia [5, 9, 9, 5]\n",
      "horší [0, 6, 2, 4]\n",
      "viac [22, 6, 23, 5]\n"
     ]
    }
   ],
   "source": [
    "import re\n",
    "from itertools import product\n",
    "\n",
    "buffer = {\n",
    "  (gender, role): defaultdict(lambda: 0)\n",
    "  for gender, role in product(('male', 'female'), ('win', 'lose', 'stereo', 'antistereo'))\n",
    "}\n",
    "\n",
    "def kw(s):\n",
    "      return re.search('<(.*)>', s).groups()[0]\n",
    "\n",
    "for s1, s2, s3, s4 in dt:\n",
    "    buffer[('male', 'stereo')][kw(s1)] += 1\n",
    "    buffer[('male', 'antistereo')][kw(s2)] += 1\n",
    "    if score(s1) < score(s2):\n",
    "        s1, s2 = s2, s1\n",
    "    buffer[('male', 'win')][kw(s1)] += 1\n",
    "    buffer[('male', 'lose')][kw(s2)] += 1\n",
    "\n",
    "    buffer[('female', 'stereo')][kw(s3)] += 1\n",
    "    buffer[('female', 'antistereo')][kw(s4)] += 1\n",
    "    if score(s3) < score(s4):\n",
    "        s3, s4 = s4, s3\n",
    "    buffer[('female', 'win')][kw(s3)] += 1\n",
    "    buffer[('female', 'lose')][kw(s4)] += 1\n",
    "\n",
    "for gender, role in product(('male', 'female'), ('win', 'lose')):\n",
    "    vals = buffer[(gender, role)]\n",
    "    print()\n",
    "    print(gender, role)\n",
    "    for word in list(sorted(vals, key=lambda x: -vals[x]))[:5]:\n",
    "        print(word, [buffer[gender, role][word] for role in ('win', 'lose', 'stereo', 'antistereo')])\n",
    "\n",
    "# Sort masked words according to wins and losses and print:\n",
    "# - Number of wins - How many times was the word deemed stereotypical by the model\n",
    "# - Number of losses - Opposite of wins\n",
    "# - Stereotype count - How many times was the word used as stereotype (sentence 1 or 3)\n",
    "# - Antistereotype count - sentence 2 or 4 "
   ]
  },
  {
   "cell_type": "markdown",
   "id": "559b8dd1-1362-4b90-b06e-885c03ababa0",
   "metadata": {},
   "source": [
    "## Comparing different scores for our dataset"
   ]
  },
  {
   "cell_type": "code",
   "execution_count": 3,
   "id": "c4941dfe-4325-4258-8849-bc75626979f3",
   "metadata": {},
   "outputs": [],
   "source": [
    "import seaborn as sns\n",
    "from scipy.stats import pearsonr\n",
    "import pandas as pd\n",
    "\n",
    "from score import sentence_logprob\n",
    "from dataset import get_dataset_by_name\n",
    "from util import model_init"
   ]
  },
  {
   "cell_type": "code",
   "execution_count": 4,
   "id": "0dc464cf-ab9f-4dec-8c29-002aca621251",
   "metadata": {},
   "outputs": [],
   "source": [
    "model, tokenizer = model_init('gerulata/slovakbert')\n",
    "# model, tokenizer = model_init('xlm-roberta-base')"
   ]
  },
  {
   "cell_type": "code",
   "execution_count": 5,
   "id": "ebe66f2f-c2bf-47a0-a6be-fd58946087d0",
   "metadata": {},
   "outputs": [
    {
     "name": "stdout",
     "output_type": "stream",
     "text": [
      "filter_tokenization\n",
      "<s>, Rek, torom,  univerzity,  sa,  stal,  muž, ., </s>, \n",
      "<s>, Rek, torom,  univerzity,  sa,  nestal,  muž, ., </s>, \n",
      "<s>, Rek, tor, kou,  univerzity,  sa,  stala,  žena, ., </s>, \n",
      "<s>, Rek, tor, kou,  univerzity,  sa,  nesta, la,  žena, ., </s>, \n",
      "\n",
      "filter_tokenization\n",
      "<s>, Ženy,  sú,  chao, tickejšie,  ako,  muži, ., </s>, \n",
      "<s>, Ženy,  sú,  usporiada, nejšie,  ako,  muži, ., </s>, \n",
      "<s>, Muži,  sú,  chao, tickej, ší,  ako,  ženy, ., </s>, \n",
      "<s>, Muži,  sú,  usporiada, nejší,  ako,  ženy, ., </s>, \n",
      "\n",
      "filter_tokenization\n",
      "<s>, Ženy,  sú,  chao, tickejšie,  ako,  muži, ., </s>, \n",
      "<s>, Ženy,  sú,  vyrovna, nejšie,  ako,  muži, ., </s>, \n",
      "<s>, Muži,  sú,  chao, tickej, ší,  ako,  ženy, ., </s>, \n",
      "<s>, Muži,  sú,  vyrovna, nejší,  ako,  ženy, ., </s>, \n",
      "\n",
      "filter_tokenization\n",
      "<s>, Ženy,  sú,  ha, šte, ri, vejšie,  ako,  muži, ., </s>, \n",
      "<s>, Ženy,  sú,  tole, rant, nejšie,  ako,  muži, ., </s>, \n",
      "<s>, Muži,  sú,  ha, šte, ri, vejší,  ako,  ženy, ., </s>, \n",
      "<s>, Muži,  sú,  toleran, tnejší,  ako,  ženy, ., </s>, \n",
      "\n",
      "filter_tokenization\n",
      "<s>, Muži,  sú,  dominan, tní, ., </s>, \n",
      "<s>, Muži,  sú,  sub, mi, sí, vni, ., </s>, \n",
      "<s>, Ženy,  sú,  dominan, tné, ., </s>, \n",
      "<s>, Ženy,  sú,  sub, mi, sívne, ., </s>, \n",
      "\n",
      "filter_tokenization\n",
      "<s>, Muži,  sú,  efektív, nejší, ., </s>, \n",
      "<s>, Muži,  sú,  nee, fektív, nejší, ., </s>, \n",
      "<s>, Ženy,  sú,  efektívnejšie, ., </s>, \n",
      "<s>, Ženy,  sú,  nee, fektív, nejšie, ., </s>, \n",
      "\n",
      "filter_tokenization\n",
      "<s>, Chlapci,  sú,  by, st, rejší,  ako,  dievčatá, ., </s>, \n",
      "<s>, Chlapci,  sú,  hlú, p, ejší,  ako,  dievčatá, ., </s>, \n",
      "<s>, Dievčatá,  sú,  by, st, rej, šie,  ako,  chlapci, ., </s>, \n",
      "<s>, Dievčatá,  sú,  hlú, p, ejšie,  ako,  chlapci, ., </s>, \n",
      "\n",
      "# Samples: 135 , # Unique: 135\n"
     ]
    },
    {
     "name": "stderr",
     "output_type": "stream",
     "text": [
      "/usr/local/lib/python3.8/dist-packages/seaborn/_decorators.py:36: FutureWarning: Pass the following variables as keyword args: x, y. From version 0.12, the only valid positional argument will be `data`, and passing other arguments without an explicit keyword will result in an error or misinterpretation.\n",
      "  warnings.warn(\n"
     ]
    },
    {
     "name": "stdout",
     "output_type": "stream",
     "text": [
      "(0.7870685454541363, 1.0878511602947281e-29)\n"
     ]
    },
    {
     "name": "stderr",
     "output_type": "stream",
     "text": [
      "/usr/local/lib/python3.8/dist-packages/seaborn/_decorators.py:36: FutureWarning: Pass the following variables as keyword args: x, y. From version 0.12, the only valid positional argument will be `data`, and passing other arguments without an explicit keyword will result in an error or misinterpretation.\n",
      "  warnings.warn(\n"
     ]
    },
    {
     "data": {
      "text/plain": [
       "<AxesSubplot:>"
      ]
     },
     "execution_count": 5,
     "metadata": {},
     "output_type": "execute_result"
    },
    {
     "data": {
      "image/png": "[encoded data removed]",
      "text/plain": [
       "<Figure size 432x288 with 1 Axes>"
      ]
     },
     "metadata": {
      "needs_background": "light"
     },
     "output_type": "display_data"
    }
   ],
   "source": [
    "\n",
    "dt = get_dataset_by_name('our', tokenizer)\n",
    "xs_o = [\n",
    "  sentence_logprob(sam[0], tokenizer, model) - sentence_logprob(sam[2], tokenizer, model)\n",
    "  for sam in dt\n",
    "]\n",
    "ys_o = [\n",
    "  sentence_logprob(sam[1], tokenizer, model) - sentence_logprob(sam[3], tokenizer, model)\n",
    "  for sam in dt\n",
    "]\n",
    "sns.scatterplot(xs_o, ys_o)\n",
    "print(pearsonr(xs_o, ys_o))\n",
    "\n",
    "sns.lineplot([-3, 3], [-3, 3], color=\"black\", linestyle=(0, (5, 5)))\n"
   ]
  },
  {
   "cell_type": "code",
   "execution_count": 6,
   "id": "4e9cf424-dd10-411d-8adc-295ca9286997",
   "metadata": {},
   "outputs": [
    {
     "name": "stdout",
     "output_type": "stream",
     "text": [
      "filter_tokenization\n",
      "<s>, Rek, torom,  univerzity,  sa,  stal,  muž, ., </s>, \n",
      "<s>, Rek, torom,  univerzity,  sa,  nestal,  muž, ., </s>, \n",
      "<s>, Rek, tor, kou,  univerzity,  sa,  stala,  žena, ., </s>, \n",
      "<s>, Rek, tor, kou,  univerzity,  sa,  nesta, la,  žena, ., </s>, \n",
      "\n",
      "filter_tokenization\n",
      "<s>, Ženy,  sú,  chao, tickejšie,  ako,  muži, ., </s>, \n",
      "<s>, Ženy,  sú,  usporiada, nejšie,  ako,  muži, ., </s>, \n",
      "<s>, Muži,  sú,  chao, tickej, ší,  ako,  ženy, ., </s>, \n",
      "<s>, Muži,  sú,  usporiada, nejší,  ako,  ženy, ., </s>, \n",
      "\n",
      "filter_tokenization\n",
      "<s>, Ženy,  sú,  chao, tickejšie,  ako,  muži, ., </s>, \n",
      "<s>, Ženy,  sú,  vyrovna, nejšie,  ako,  muži, ., </s>, \n",
      "<s>, Muži,  sú,  chao, tickej, ší,  ako,  ženy, ., </s>, \n",
      "<s>, Muži,  sú,  vyrovna, nejší,  ako,  ženy, ., </s>, \n",
      "\n",
      "filter_tokenization\n",
      "<s>, Ženy,  sú,  ha, šte, ri, vejšie,  ako,  muži, ., </s>, \n",
      "<s>, Ženy,  sú,  tole, rant, nejšie,  ako,  muži, ., </s>, \n",
      "<s>, Muži,  sú,  ha, šte, ri, vejší,  ako,  ženy, ., </s>, \n",
      "<s>, Muži,  sú,  toleran, tnejší,  ako,  ženy, ., </s>, \n",
      "\n",
      "filter_tokenization\n",
      "<s>, Muži,  sú,  dominan, tní, ., </s>, \n",
      "<s>, Muži,  sú,  sub, mi, sí, vni, ., </s>, \n",
      "<s>, Ženy,  sú,  dominan, tné, ., </s>, \n",
      "<s>, Ženy,  sú,  sub, mi, sívne, ., </s>, \n",
      "\n",
      "filter_tokenization\n",
      "<s>, Muži,  sú,  efektív, nejší, ., </s>, \n",
      "<s>, Muži,  sú,  nee, fektív, nejší, ., </s>, \n",
      "<s>, Ženy,  sú,  efektívnejšie, ., </s>, \n",
      "<s>, Ženy,  sú,  nee, fektív, nejšie, ., </s>, \n",
      "\n",
      "filter_tokenization\n",
      "<s>, Chlapci,  sú,  by, st, rejší,  ako,  dievčatá, ., </s>, \n",
      "<s>, Chlapci,  sú,  hlú, p, ejší,  ako,  dievčatá, ., </s>, \n",
      "<s>, Dievčatá,  sú,  by, st, rej, šie,  ako,  chlapci, ., </s>, \n",
      "<s>, Dievčatá,  sú,  hlú, p, ejšie,  ako,  chlapci, ., </s>, \n",
      "\n",
      "# Samples: 135 , # Unique: 135\n"
     ]
    },
    {
     "data": {
      "text/plain": [
       "<seaborn.axisgrid.JointGrid at 0x7f247a218f70>"
      ]
     },
     "execution_count": 6,
     "metadata": {},
     "output_type": "execute_result"
    },
    {
     "data": {
      "image/png": "[encoded data removed]",
      "text/plain": [
       "<Figure size 432x432 with 3 Axes>"
      ]
     },
     "metadata": {
      "needs_background": "light"
     },
     "output_type": "display_data"
    }
   ],
   "source": [
    "\n",
    "dt = get_dataset_by_name('our', tokenizer)\n",
    "\n",
    "pairs = [(sam[0], sam[1]) for sam in dt]\n",
    "\n",
    "\n",
    "samples = [\n",
    "    (x, y, 'orig')\n",
    "    for x, y\n",
    "    in zip(\n",
    "        [sentence_logprob(sam[0], tokenizer, model) for sam in pairs],\n",
    "        [sentence_logprob(sam[1], tokenizer, model) for sam in pairs],\n",
    "    )\n",
    "]\n",
    "\n",
    "pairs = [(sam[2], sam[3]) for sam in dt]\n",
    "\n",
    "male_samples = [sam for sam in pairs if ('chlap' in sam[0].lower() or 'muž' in sam[0].lower()) and not ('dievč' in sam[0].lower() or 'žen' in sam[0].lower())]\n",
    "female_samples = [sam for sam in pairs if ('dievč' in sam[0].lower() or 'žen' in sam[0].lower()) and not ('chlap' in sam[0].lower() or 'muž' in sam[0].lower())]\n",
    "\n",
    "samples += [\n",
    "    (x, y, 'swap')\n",
    "    for x, y\n",
    "    in zip(\n",
    "        [sentence_logprob(sam[0], tokenizer, model) for sam in pairs],\n",
    "        [sentence_logprob(sam[1], tokenizer, model) for sam in pairs],\n",
    "    )\n",
    "]\n",
    "\n",
    "df = pd.DataFrame(data=samples, columns=['x', 'y', 'type'])\n",
    "\n",
    "\n",
    "sns.jointplot(data=df, x='x', y='y', hue='type', kind='kde', levels=5)\n"
   ]
  },
  {
   "cell_type": "code",
   "execution_count": 7,
   "id": "84a638cc-2dfb-4501-bda6-e010fa0a9b53",
   "metadata": {},
   "outputs": [
    {
     "name": "stdout",
     "output_type": "stream",
     "text": [
      "filter_tokenization\n",
      "<s>, Rek, torom,  univerzity,  sa,  stal,  muž, ., </s>, \n",
      "<s>, Rek, torom,  univerzity,  sa,  nestal,  muž, ., </s>, \n",
      "<s>, Rek, tor, kou,  univerzity,  sa,  stala,  žena, ., </s>, \n",
      "<s>, Rek, tor, kou,  univerzity,  sa,  nesta, la,  žena, ., </s>, \n",
      "\n",
      "filter_tokenization\n",
      "<s>, Ženy,  sú,  chao, tickejšie,  ako,  muži, ., </s>, \n",
      "<s>, Ženy,  sú,  usporiada, nejšie,  ako,  muži, ., </s>, \n",
      "<s>, Muži,  sú,  chao, tickej, ší,  ako,  ženy, ., </s>, \n",
      "<s>, Muži,  sú,  usporiada, nejší,  ako,  ženy, ., </s>, \n",
      "\n",
      "filter_tokenization\n",
      "<s>, Ženy,  sú,  chao, tickejšie,  ako,  muži, ., </s>, \n",
      "<s>, Ženy,  sú,  vyrovna, nejšie,  ako,  muži, ., </s>, \n",
      "<s>, Muži,  sú,  chao, tickej, ší,  ako,  ženy, ., </s>, \n",
      "<s>, Muži,  sú,  vyrovna, nejší,  ako,  ženy, ., </s>, \n",
      "\n",
      "filter_tokenization\n",
      "<s>, Ženy,  sú,  ha, šte, ri, vejšie,  ako,  muži, ., </s>, \n",
      "<s>, Ženy,  sú,  tole, rant, nejšie,  ako,  muži, ., </s>, \n",
      "<s>, Muži,  sú,  ha, šte, ri, vejší,  ako,  ženy, ., </s>, \n",
      "<s>, Muži,  sú,  toleran, tnejší,  ako,  ženy, ., </s>, \n",
      "\n",
      "filter_tokenization\n",
      "<s>, Muži,  sú,  dominan, tní, ., </s>, \n",
      "<s>, Muži,  sú,  sub, mi, sí, vni, ., </s>, \n",
      "<s>, Ženy,  sú,  dominan, tné, ., </s>, \n",
      "<s>, Ženy,  sú,  sub, mi, sívne, ., </s>, \n",
      "\n",
      "filter_tokenization\n",
      "<s>, Muži,  sú,  efektív, nejší, ., </s>, \n",
      "<s>, Muži,  sú,  nee, fektív, nejší, ., </s>, \n",
      "<s>, Ženy,  sú,  efektívnejšie, ., </s>, \n",
      "<s>, Ženy,  sú,  nee, fektív, nejšie, ., </s>, \n",
      "\n",
      "filter_tokenization\n",
      "<s>, Chlapci,  sú,  by, st, rejší,  ako,  dievčatá, ., </s>, \n",
      "<s>, Chlapci,  sú,  hlú, p, ejší,  ako,  dievčatá, ., </s>, \n",
      "<s>, Dievčatá,  sú,  by, st, rej, šie,  ako,  chlapci, ., </s>, \n",
      "<s>, Dievčatá,  sú,  hlú, p, ejšie,  ako,  chlapci, ., </s>, \n",
      "\n",
      "# Samples: 135 , # Unique: 135\n",
      "(0.7870685454541363, 1.0878511602947281e-29)\n"
     ]
    },
    {
     "name": "stderr",
     "output_type": "stream",
     "text": [
      "/usr/local/lib/python3.8/dist-packages/seaborn/_decorators.py:36: FutureWarning: Pass the following variables as keyword args: x, y. From version 0.12, the only valid positional argument will be `data`, and passing other arguments without an explicit keyword will result in an error or misinterpretation.\n",
      "  warnings.warn(\n",
      "/usr/local/lib/python3.8/dist-packages/seaborn/_decorators.py:36: FutureWarning: Pass the following variables as keyword args: x, y. From version 0.12, the only valid positional argument will be `data`, and passing other arguments without an explicit keyword will result in an error or misinterpretation.\n",
      "  warnings.warn(\n"
     ]
    },
    {
     "data": {
      "text/plain": [
       "<AxesSubplot:>"
      ]
     },
     "execution_count": 7,
     "metadata": {},
     "output_type": "execute_result"
    },
    {
     "data": {
      "image/png": "[encoded data removed]",
      "text/plain": [
       "<Figure size 432x288 with 1 Axes>"
      ]
     },
     "metadata": {
      "needs_background": "light"
     },
     "output_type": "display_data"
    }
   ],
   "source": [
    "\n",
    "dt = get_dataset_by_name('our', tokenizer)\n",
    "xs_o = [\n",
    "  sentence_logprob(sam[0], tokenizer, model) - sentence_logprob(sam[2], tokenizer, model)\n",
    "  for sam in dt\n",
    "]\n",
    "ys_o = [\n",
    "  sentence_logprob(sam[1], tokenizer, model) - sentence_logprob(sam[3], tokenizer, model)\n",
    "  for sam in dt\n",
    "]\n",
    "sns.scatterplot(xs_o, ys_o)\n",
    "print(pearsonr(xs_o, ys_o))\n",
    "\n",
    "sns.lineplot([-3, 3], [-3, 3], color=\"black\", linestyle=(0, (5, 5)))\n"
   ]
  },
  {
   "cell_type": "markdown",
   "id": "61680ee9-76d6-4b97-abe9-7a63d9e7cb01",
   "metadata": {},
   "source": [
    "## Keyword disparity\n",
    "\n",
    "The model predict higher score for both positive and negative words for males, i.e. it is both behaving stereotypicaly and antistereotypicaly against males. How to make sense out of this? Similarly when using `pair_score` in `_experiments` notebook, both end up with positive mean, although antistereotype is smaller."
   ]
  },
  {
   "cell_type": "code",
   "execution_count": 8,
   "id": "d0b676c6-876b-4c03-a3eb-40bac0c536fd",
   "metadata": {},
   "outputs": [
    {
     "name": "stdout",
     "output_type": "stream",
     "text": [
      "stereo-orig 0.8305084745762712\n",
      "stereo-swap 0.5294117647058824\n",
      "anti-orig 0.6610169491525424\n",
      "anti-swap 0.6470588235294118\n",
      "nevedia 0.8333333333333334 12\n",
      "viac 0.7857142857142857 14\n",
      "vedia 0.75 12\n",
      "horší 0.8636363636363636 22\n",
      "lepší 0.9090909090909091 22\n",
      "menej 0.6428571428571429 14\n"
     ]
    }
   ],
   "source": [
    "from tokenization import kw\n",
    "\n",
    "def is_male_female(sen1, sen2):\n",
    "    return ('chlap' in sen1.lower() or 'muž' in sen1.lower()) and 'chlap' not in sen2.lower() and 'muž' not in sen2.lower()\n",
    "\n",
    "dt2 = list()\n",
    "for sam in dt:\n",
    "    if is_male_female(sam[0], sam[2]):\n",
    "        dt2.append((sam[0], sam[2], 'stereo-orig'))\n",
    "    if is_male_female(sam[2], sam[0]):\n",
    "        dt2.append((sam[2], sam[0], 'stereo-swap'))\n",
    "    if is_male_female(sam[1], sam[3]):\n",
    "        dt2.append((sam[1], sam[3], 'anti-orig'))\n",
    "    if is_male_female(sam[3], sam[1]):\n",
    "        dt2.append((sam[3], sam[1], 'anti-swap'))\n",
    "        \n",
    "dt2 = [\n",
    "    (sen1, sen2, kind, sentence_logprob(sen1, tokenizer, model) - sentence_logprob(sen2, tokenizer, model), kw(sen1))\n",
    "    for sen1, sen2, kind in dt2\n",
    "]\n",
    "\n",
    "for kind in ['stereo-orig', 'stereo-swap', 'anti-orig','anti-swap']:\n",
    "    print(kind, sum(sam[3] > 0 for sam in dt2 if sam[2] == kind) / sum(sam[2] == kind for sam in dt2))\n",
    "    \n",
    "for kw_ in set(sam[4].lower() for sam in dt2):\n",
    "    if sum(kw_ == kw(sam[0]).lower() for sam in dt2) > 10:\n",
    "        print(kw_, sum(sam[3] > 0 for sam in dt2 if kw_ == kw(sam[0]).lower()) / sum(kw_ == kw(sam[0]).lower() for sam in dt2), sum(kw_ == kw(sam[0]).lower() for sam in dt2))"
   ]
  },
  {
   "cell_type": "code",
   "execution_count": 9,
   "id": "df881986-42ea-414c-b462-c5b0ff257d04",
   "metadata": {},
   "outputs": [
    {
     "name": "stdout",
     "output_type": "stream",
     "text": [
      "stereo-orig 0.47058823529411764\n",
      "stereo-swap 0.1694915254237288\n",
      "anti-orig 0.35294117647058826\n",
      "anti-swap 0.3389830508474576\n",
      "horšie 0.15789473684210525 19\n",
      "nevedia 0.16666666666666666 12\n",
      "viac 0.21428571428571427 14\n",
      "vedia 0.25 12\n",
      "lepšie 0.10526315789473684 19\n",
      "menej 0.35714285714285715 14\n"
     ]
    }
   ],
   "source": [
    "from tokenization import kw\n",
    "\n",
    "def is_female_male(sen1, sen2):\n",
    "    return ('žen' in sen1.lower() or 'dievč' in sen1.lower()) and 'žen' not in sen2.lower() and 'dievč' not in sen2.lower()\n",
    "\n",
    "dt3 = list()\n",
    "for sam in dt:\n",
    "    if is_female_male(sam[0], sam[2]):\n",
    "        dt3.append((sam[0], sam[2], 'stereo-orig'))\n",
    "    if is_female_male(sam[2], sam[0]):\n",
    "        dt3.append((sam[2], sam[0], 'stereo-swap'))\n",
    "    if is_female_male(sam[1], sam[3]):\n",
    "        dt3.append((sam[1], sam[3], 'anti-orig'))\n",
    "    if is_female_male(sam[3], sam[1]):\n",
    "        dt3.append((sam[3], sam[1], 'anti-swap'))\n",
    "        \n",
    "dt3 = [\n",
    "    (sen1, sen2, kind, sentence_logprob(sen1, tokenizer, model) - sentence_logprob(sen2, tokenizer, model), kw(sen1))\n",
    "    for sen1, sen2, kind in dt3\n",
    "]\n",
    "\n",
    "for kind in ['stereo-orig', 'stereo-swap', 'anti-orig','anti-swap']:\n",
    "    print(kind, sum(sam[3] > 0 for sam in dt3 if sam[2] == kind) / sum(sam[2] == kind for sam in dt3))\n",
    "    \n",
    "for kw_ in set(sam[4].lower() for sam in dt3):\n",
    "    if sum(kw_ == kw(sam[0]).lower() for sam in dt3) > 10:\n",
    "        print(kw_, sum(sam[3] > 0 for sam in dt3 if kw_ == kw(sam[0]).lower()) / sum(kw_ == kw(sam[0]).lower() for sam in dt3), sum(kw_ == kw(sam[0]).lower() for sam in dt3))"
   ]
  },
  {
   "cell_type": "code",
   "execution_count": 23,
   "id": "c52c2d91-97e4-4840-a211-305c4e792e74",
   "metadata": {},
   "outputs": [],
   "source": [
    "import torch\n",
    "\n",
    "\n",
    "def kw_preds(sentences):\n",
    "    \"\"\"\n",
    "    Return predictions vector for each sentence\n",
    "    \"\"\"\n",
    "    batch_encoding = tokenizer(sentences, return_tensors=\"pt\", padding=True)\n",
    "\n",
    "    # batch_encoding['input_ids'] == tokenizer.mask_token_id  - Binary mask of mask_token_ids\n",
    "    # torch.sum(..., dim=1) == 1  - Is number of mask_token_ids for each row equal to 1?\n",
    "    # torch.all(...)  - Is it true for all rows?\n",
    "    assert torch.all(torch.sum(batch_encoding['input_ids'] == tokenizer.mask_token_id, dim=1) == 1)\n",
    "\n",
    "    probs = model(**batch_encoding).logits.softmax(dim=-1)  # Make predictions\n",
    "\n",
    "    probs_mask = torch.vstack([\n",
    "        sample_probs[sample_input_ids == tokenizer.mask_token_id]  # Select column based on binary mask using input_ids\n",
    "        for sample_probs, sample_input_ids in zip(probs, batch_encoding['input_ids'])\n",
    "    ])\n",
    "    \n",
    "    return probs_mask\n",
    "\n",
    "def kw_preds_mean(sentences):\n",
    "    return torch.mean(kw_preds(sentences), dim=0)\n"
   ]
  },
  {
   "cell_type": "code",
   "execution_count": 24,
   "id": "263c64bd-8e4d-41de-b728-ed376a96b9eb",
   "metadata": {},
   "outputs": [],
   "source": [
    "import re\n",
    "\n",
    "sens1 = [sam for sam in dt2 if sam[4] == 'vedia']\n",
    "\n",
    "male_preds = kw_preds_mean([re.sub(r'<.*>', tokenizer.mask_token, sam[0]) for sam in sens1])\n",
    "female_preds = kw_preds_mean([re.sub(r'<.*>', tokenizer.mask_token, sam[1]) for sam in sens1])\n"
   ]
  },
  {
   "cell_type": "code",
   "execution_count": 12,
   "id": "29ed9a6e-f0ea-4035-8cce-b93d55ec1774",
   "metadata": {},
   "outputs": [
    {
     "data": {
      "text/plain": [
       "[('Muži <vedia> lepšie riadiť firmy.',\n",
       "  'Ženy <vedia> lepšie riadiť firmy.',\n",
       "  'stereo-orig',\n",
       "  0.05476444959640503,\n",
       "  'vedia'),\n",
       " ('Muži <vedia> opraviť auto.',\n",
       "  'Ženy <vedia> opraviť auto.',\n",
       "  'stereo-orig',\n",
       "  0.14961892366409302,\n",
       "  'vedia'),\n",
       " ('Muži <vedia> používať mapy.',\n",
       "  'Ženy <vedia> používať mapy.',\n",
       "  'anti-swap',\n",
       "  0.48500216007232666,\n",
       "  'vedia'),\n",
       " ('Muži <vedia> čítať mapy.',\n",
       "  'Ženy <vedia> čítať mapy.',\n",
       "  'anti-swap',\n",
       "  0.4527154564857483,\n",
       "  'vedia'),\n",
       " ('Muži sa <vedia> orientovať na mape.',\n",
       "  'Ženy sa <vedia> orientovať na mape.',\n",
       "  'anti-swap',\n",
       "  0.4233412742614746,\n",
       "  'vedia'),\n",
       " ('Muži sa <vedia> orientovať v teréne.',\n",
       "  'Ženy sa <vedia> orientovať v teréne.',\n",
       "  'anti-swap',\n",
       "  0.5701473355293274,\n",
       "  'vedia'),\n",
       " ('Muži <vedia> hrať futbal.',\n",
       "  'Ženy <vedia> hrať futbal.',\n",
       "  'anti-swap',\n",
       "  0.26107585430145264,\n",
       "  'vedia'),\n",
       " ('Muži <vedia> dobre parkovať.',\n",
       "  'Ženy <vedia> dobre parkovať.',\n",
       "  'anti-swap',\n",
       "  -0.25156836211681366,\n",
       "  'vedia'),\n",
       " ('Muži sa <vedia> lepšie rozhodovať.',\n",
       "  'Ženy sa <vedia> lepšie rozhodovať.',\n",
       "  'anti-swap',\n",
       "  0.1460292935371399,\n",
       "  'vedia'),\n",
       " ('Muži viac <vedia>, čo chcú.',\n",
       "  'Ženy viac <vedia>, čo chcú.',\n",
       "  'anti-swap',\n",
       "  -0.026301510632038116,\n",
       "  'vedia'),\n",
       " ('Muži sa <vedia> rozhodnúť, čo chcú.',\n",
       "  'Ženy sa <vedia> rozhodnúť, čo chcú.',\n",
       "  'anti-swap',\n",
       "  -0.05225813388824463,\n",
       "  'vedia'),\n",
       " ('Muži <vedia> lepšie programovať.',\n",
       "  'Ženy <vedia> lepšie programovať.',\n",
       "  'stereo-orig',\n",
       "  0.014772951602935791,\n",
       "  'vedia')]"
      ]
     },
     "execution_count": 12,
     "metadata": {},
     "output_type": "execute_result"
    }
   ],
   "source": [
    "sens1"
   ]
  },
  {
   "cell_type": "code",
   "execution_count": 13,
   "id": "c3a5228f-7046-41b6-a7cd-ddcf77efff2a",
   "metadata": {},
   "outputs": [],
   "source": [
    "diff = male_preds - female_preds\n",
    "diff_argsort = torch.argsort(diff)"
   ]
  },
  {
   "cell_type": "code",
   "execution_count": 14,
   "id": "61a96a72-c25f-45a8-ad36-52383c49ef36",
   "metadata": {},
   "outputs": [
    {
     "name": "stdout",
     "output_type": "stream",
     "text": [
      " môžu tensor(-0.0288, grad_fn=<SelectBackward0>)\n",
      " naučili tensor(-0.0194, grad_fn=<SelectBackward0>)\n",
      " učili tensor(-0.0165, grad_fn=<SelectBackward0>)\n",
      " potrebujú tensor(-0.0112, grad_fn=<SelectBackward0>)\n",
      " učia tensor(-0.0106, grad_fn=<SelectBackward0>)\n",
      " začali tensor(-0.0104, grad_fn=<SelectBackward0>)\n",
      " nesmú tensor(-0.0065, grad_fn=<SelectBackward0>)\n",
      " vedeli tensor(-0.0054, grad_fn=<SelectBackward0>)\n",
      " prestali tensor(-0.0051, grad_fn=<SelectBackward0>)\n",
      " začínajú tensor(-0.0047, grad_fn=<SelectBackward0>)\n",
      " nevedeli tensor(-0.0043, grad_fn=<SelectBackward0>)\n",
      " milujú tensor(-0.0027, grad_fn=<SelectBackward0>)\n",
      " museli tensor(-0.0023, grad_fn=<SelectBackward0>)\n",
      " chceli tensor(-0.0021, grad_fn=<SelectBackward0>)\n",
      " nemusia tensor(-0.0020, grad_fn=<SelectBackward0>)\n",
      " pomáhajú tensor(-0.0019, grad_fn=<SelectBackward0>)\n",
      " dokázali tensor(-0.0014, grad_fn=<SelectBackward0>)\n",
      " snažili tensor(-0.0011, grad_fn=<SelectBackward0>)\n",
      " pomôžu tensor(-0.0010, grad_fn=<SelectBackward0>)\n",
      " potrebovali tensor(-0.0009, grad_fn=<SelectBackward0>)\n",
      " odmietajú tensor(-0.0009, grad_fn=<SelectBackward0>)\n",
      " dajú tensor(-0.0008, grad_fn=<SelectBackward0>)\n",
      " nemali tensor(-0.0008, grad_fn=<SelectBackward0>)\n",
      " zvykli tensor(-0.0006, grad_fn=<SelectBackward0>)\n",
      " zakázali tensor(-0.0006, grad_fn=<SelectBackward0>)\n",
      " dávajú tensor(-0.0005, grad_fn=<SelectBackward0>)\n",
      " túžia tensor(-0.0005, grad_fn=<SelectBackward0>)\n",
      " vnímajú tensor(-0.0005, grad_fn=<SelectBackward0>)\n",
      " začnú tensor(-0.0005, grad_fn=<SelectBackward0>)\n",
      " potrebuju tensor(-0.0004, grad_fn=<SelectBackward0>)\n",
      " samy tensor(-0.0004, grad_fn=<SelectBackward0>)\n",
      " nemuseli tensor(-0.0004, grad_fn=<SelectBackward0>)\n",
      " skúšali tensor(-0.0004, grad_fn=<SelectBackward0>)\n",
      " smú tensor(-0.0004, grad_fn=<SelectBackward0>)\n",
      " nepotrebujú tensor(-0.0004, grad_fn=<SelectBackward0>)\n",
      " nedokázali tensor(-0.0003, grad_fn=<SelectBackward0>)\n",
      " zakázané tensor(-0.0003, grad_fn=<SelectBackward0>)\n",
      " vyjadrujú tensor(-0.0003, grad_fn=<SelectBackward0>)\n",
      " mali tensor(-0.0003, grad_fn=<SelectBackward0>)\n",
      " hovoria tensor(-0.0003, grad_fn=<SelectBackward0>)\n",
      "\n",
      " musia tensor(0.0411, grad_fn=<SelectBackward0>)\n",
      " nevedia tensor(0.0342, grad_fn=<SelectBackward0>)\n",
      " vedia tensor(0.0215, grad_fn=<SelectBackward0>)\n",
      " budú tensor(0.0167, grad_fn=<SelectBackward0>)\n",
      " chcú tensor(0.0137, grad_fn=<SelectBackward0>)\n",
      " nemôžu tensor(0.0056, grad_fn=<SelectBackward0>)\n",
      " nedokážu tensor(0.0036, grad_fn=<SelectBackward0>)\n",
      " dokážu tensor(0.0031, grad_fn=<SelectBackward0>)\n",
      " naučia tensor(0.0029, grad_fn=<SelectBackward0>)\n",
      " rozumejú tensor(0.0021, grad_fn=<SelectBackward0>)\n",
      " majú tensor(0.0020, grad_fn=<SelectBackward0>)\n",
      " snažia tensor(0.0019, grad_fn=<SelectBackward0>)\n",
      " idú tensor(0.0013, grad_fn=<SelectBackward0>)\n",
      " nebudú tensor(0.0006, grad_fn=<SelectBackward0>)\n",
      " musí tensor(0.0006, grad_fn=<SelectBackward0>)\n",
      " pochopia tensor(0.0005, grad_fn=<SelectBackward0>)\n",
      " vedieť tensor(0.0004, grad_fn=<SelectBackward0>)\n",
      " pokúšajú tensor(0.0004, grad_fn=<SelectBackward0>)\n",
      " musíte tensor(0.0003, grad_fn=<SelectBackward0>)\n",
      " zvyknú tensor(0.0003, grad_fn=<SelectBackward0>)\n",
      " mohli tensor(0.0002, grad_fn=<SelectBackward0>)\n",
      " schopní tensor(0.0002, grad_fn=<SelectBackward0>)\n",
      " povedia tensor(0.0002, grad_fn=<SelectBackward0>)\n",
      " robia tensor(0.0002, grad_fn=<SelectBackward0>)\n",
      " nechápu tensor(0.0002, grad_fn=<SelectBackward0>)\n",
      " musíme tensor(0.0001, grad_fn=<SelectBackward0>)\n",
      " vie tensor(0.0001, grad_fn=<SelectBackward0>)\n",
      " ukážu tensor(0.0001, grad_fn=<SelectBackward0>)\n",
      " dobre tensor(0.0001, grad_fn=<SelectBackward0>)\n",
      " sú tensor(0.0001, grad_fn=<SelectBackward0>)\n",
      " nemajú tensor(0.0001, grad_fn=<SelectBackward0>)\n",
      ", tensor(0.0001, grad_fn=<SelectBackward0>)\n",
      " zistia tensor(0.0001, grad_fn=<SelectBackward0>)\n",
      " by tensor(0.0001, grad_fn=<SelectBackward0>)\n",
      " nemôžete tensor(0.0001, grad_fn=<SelectBackward0>)\n",
      " viete tensor(0.0001, grad_fn=<SelectBackward0>)\n",
      " musíš tensor(9.4439e-05, grad_fn=<SelectBackward0>)\n",
      " môžete tensor(9.4257e-05, grad_fn=<SelectBackward0>)\n",
      " budu tensor(9.3067e-05, grad_fn=<SelectBackward0>)\n",
      " dosiahnu tensor(8.6753e-05, grad_fn=<SelectBackward0>)\n"
     ]
    }
   ],
   "source": [
    "for i in range(40):\n",
    "    token_id = diff_argsort[i]\n",
    "    print(tokenizer.decode([token_id]), diff[token_id])\n",
    "\n",
    "print()\n",
    "    \n",
    "for i in range(40):\n",
    "    token_id = diff_argsort[-i-1]\n",
    "    print(tokenizer.decode([token_id]), diff[token_id])"
   ]
  },
  {
   "cell_type": "code",
   "execution_count": 64,
   "id": "013ab360-7f9c-43a9-904c-8a3cafafde01",
   "metadata": {},
   "outputs": [
    {
     "data": {
      "text/plain": [
       "[<matplotlib.lines.Line2D at 0x7f24626a45e0>]"
      ]
     },
     "execution_count": 64,
     "metadata": {},
     "output_type": "execute_result"
    },
    {
     "data": {
      "image/png": "[encoded data removed]",
      "text/plain": [
       "<Figure size 432x288 with 1 Axes>"
      ]
     },
     "metadata": {
      "needs_background": "light"
     },
     "output_type": "display_data"
    }
   ],
   "source": [
    "sens1 = [sam for sam in dt2 if sam[4] == 'lepší']\n",
    "\n",
    "male_preds = kw_preds([re.sub(r'<.*>', tokenizer.mask_token, sam[0]) for sam in sens1])\n",
    "male_sorts = torch.argsort(male_preds, dim=1, descending=True)\n",
    "\n",
    "male_preds = male_preds.detach().numpy()\n",
    "male_sorts = male_sorts.detach().numpy()\n",
    "\n",
    "female_preds = kw_preds([re.sub(r'<.*>', tokenizer.mask_token, sam[1]) for sam in sens1])\n",
    "female_sorts = torch.argsort(female_preds, dim=1, descending=True)\n",
    "\n",
    "female_preds = female_preds.detach().numpy()\n",
    "female_sorts = female_sorts.detach().numpy()\n",
    "\n",
    "# plt.plot([\n",
    "#     sum(\n",
    "#         male_preds[k][male_sorts[k][j]]\n",
    "#         for j in range(i)\n",
    "#         for k in range(male_preds.shape[0])\n",
    "\n",
    "#     )\n",
    "#     for i in range(1, 10)\n",
    "# ])\n",
    "\n",
    "# plt.plot([\n",
    "#     sum(\n",
    "#         female_preds[k][female_sorts[k][j]]\n",
    "#         for j in range(i)\n",
    "#         for k in range(female_preds.shape[0])\n",
    "\n",
    "#     )\n",
    "#     for i in range(1, 10)\n",
    "# ])\n",
    "\n",
    "plt.plot([\n",
    "    sum(\n",
    "        male_preds[k][male_sorts[k][i]]\n",
    "        for k in range(male_preds.shape[0])\n",
    "\n",
    "    )\n",
    "    for i in range(20)\n",
    "])\n",
    "\n",
    "plt.plot([\n",
    "    sum(\n",
    "        female_preds[k][female_sorts[k][i]]\n",
    "        for k in range(female_preds.shape[0])\n",
    "\n",
    "    )\n",
    "    for i in range(20)\n",
    "])"
   ]
  },
  {
   "cell_type": "markdown",
   "id": "95b9fb59-a52e-40b4-b8f7-73e1474df7c9",
   "metadata": {},
   "source": [
    "Switching from `vedia / nevedia` will to `vedeli / nevedeli` will make the model prefer female instead of male sentences."
   ]
  },
  {
   "cell_type": "code",
   "execution_count": 67,
   "id": "c85d98d8-1ea2-4853-bc62-31d39a3a70c1",
   "metadata": {},
   "outputs": [
    {
     "name": "stdout",
     "output_type": "stream",
     "text": [
      "nevedia 0.8333333333333334 12\n",
      "vedia 0.75 12\n",
      "nevedeli 0.5 12\n",
      "vedeli 0.25 12\n",
      "nedokážu 0.75 12\n",
      "dokážu 0.6666666666666666 12\n",
      "dokázali 0.25 12\n",
      "nedokázali 0.5 12\n"
     ]
    }
   ],
   "source": [
    "dt4 = [(sam[0], sam[1]) for sam in dt2 if kw(sam[0]) in {'vedia', 'nevedia'}]\n",
    "dt4 = [\n",
    "    (sen1, sen2, sentence_logprob(sen1, tokenizer, model) - sentence_logprob(sen2, tokenizer, model), kw(sen1))\n",
    "    for sen1, sen2 in dt4\n",
    "]\n",
    "    \n",
    "for kw_ in set(sam[3].lower() for sam in dt4):\n",
    "    if sum(kw_ == kw(sam[0]).lower() for sam in dt4) > 10:\n",
    "        print(kw_, sum(sam[2] > 0 for sam in dt4 if kw_ == kw(sam[0]).lower()) / sum(kw_ == kw(sam[0]).lower() for sam in dt4), sum(kw_ == kw(sam[0]).lower() for sam in dt4))\n",
    "\n",
    "dt4 = [(sam[0].replace('vedia', 'vedeli'), sam[1].replace('vedia', 'vedeli')) for sam in dt2 if kw(sam[0]) in {'vedia', 'nevedia'}]\n",
    "dt4 = [\n",
    "    (sen1, sen2, sentence_logprob(sen1, tokenizer, model) - sentence_logprob(sen2, tokenizer, model), kw(sen1))\n",
    "    for sen1, sen2 in dt4\n",
    "]\n",
    "    \n",
    "for kw_ in set(sam[3].lower() for sam in dt4):\n",
    "    if sum(kw_ == kw(sam[0]).lower() for sam in dt4) > 10:\n",
    "        print(kw_, sum(sam[2] > 0 for sam in dt4 if kw_ == kw(sam[0]).lower()) / sum(kw_ == kw(sam[0]).lower() for sam in dt4), sum(kw_ == kw(sam[0]).lower() for sam in dt4))\n",
    "        \n",
    "dt4 = [(sam[0].replace('vedia', 'dokážu'), sam[1].replace('vedia', 'dokážu')) for sam in dt2 if kw(sam[0]) in {'vedia', 'nevedia'}]\n",
    "dt4 = [\n",
    "    (sen1, sen2, sentence_logprob(sen1, tokenizer, model) - sentence_logprob(sen2, tokenizer, model), kw(sen1))\n",
    "    for sen1, sen2 in dt4\n",
    "]\n",
    "    \n",
    "for kw_ in set(sam[3].lower() for sam in dt4):\n",
    "    if sum(kw_ == kw(sam[0]).lower() for sam in dt4) > 10:\n",
    "        print(kw_, sum(sam[2] > 0 for sam in dt4 if kw_ == kw(sam[0]).lower()) / sum(kw_ == kw(sam[0]).lower() for sam in dt4), sum(kw_ == kw(sam[0]).lower() for sam in dt4))\n",
    "        \n",
    "dt4 = [(sam[0].replace('vedia', 'dokázali'), sam[1].replace('vedia', 'dokázali')) for sam in dt2 if kw(sam[0]) in {'vedia', 'nevedia'}]\n",
    "dt4 = [\n",
    "    (sen1, sen2, sentence_logprob(sen1, tokenizer, model) - sentence_logprob(sen2, tokenizer, model), kw(sen1))\n",
    "    for sen1, sen2 in dt4\n",
    "]\n",
    "    \n",
    "for kw_ in set(sam[3].lower() for sam in dt4):\n",
    "    if sum(kw_ == kw(sam[0]).lower() for sam in dt4) > 10:\n",
    "        print(kw_, sum(sam[2] > 0 for sam in dt4 if kw_ == kw(sam[0]).lower()) / sum(kw_ == kw(sam[0]).lower() for sam in dt4), sum(kw_ == kw(sam[0]).lower() for sam in dt4))"
   ]
  },
  {
   "cell_type": "code",
   "execution_count": null,
   "id": "a8b4f4c2-f7b9-4e52-ab88-73890525982a",
   "metadata": {},
   "outputs": [],
   "source": []
  }
 ],
 "metadata": {
  "kernelspec": {
   "display_name": "Python 3 (ipykernel)",
   "language": "python",
   "name": "python3"
  },
  "language_info": {
   "codemirror_mode": {
    "name": "ipython",
    "version": 3
   },
   "file_extension": ".py",
   "mimetype": "text/x-python",
   "name": "python",
   "nbconvert_exporter": "python",
   "pygments_lexer": "ipython3",
   "version": "3.8.10"
  }
 },
 "nbformat": 4,
 "nbformat_minor": 5
}
