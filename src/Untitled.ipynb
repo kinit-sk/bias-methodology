{
 "cells": [
  {
   "cell_type": "code",
   "execution_count": null,
   "id": "3422cdf9-6943-43fc-86de-fe4865c555dc",
   "metadata": {},
   "outputs": [],
   "source": [
    "from dataset import get_dataset_by_name\n",
    "from utils import model_init\n",
    "\n",
    "model, tokenizer = model_init('xlm-roberta-base')"
   ]
  },
  {
   "cell_type": "code",
   "execution_count": null,
   "id": "0f963fb7-cdf2-4147-b0ec-a46015ccdb89",
   "metadata": {},
   "outputs": [],
   "source": [
    "for name in \"\"\"\n",
    "crows_antistereotype\n",
    "crows_negation\n",
    "crows\n",
    "crows_revised\n",
    "stereoset_profession_control\n",
    "stereoset_race_control\n",
    "stereoset_genderswap_filtered\n",
    "stereoset_genderswap\n",
    "stereoset\n",
    "slovak_gender\n",
    "\"\"\".strip().split():\n",
    "    dt = get_dataset_by_name(name, tokenizer)"
   ]
  },
  {
   "cell_type": "code",
   "execution_count": null,
   "id": "0cf2415f-9b40-49ab-9c5b-f25e3121b1d6",
   "metadata": {},
   "outputs": [],
   "source": []
  }
 ],
 "metadata": {
  "kernelspec": {
   "display_name": "Python 3 (ipykernel)",
   "language": "python",
   "name": "python3"
  },
  "language_info": {
   "codemirror_mode": {
    "name": "ipython",
    "version": 3
   },
   "file_extension": ".py",
   "mimetype": "text/x-python",
   "name": "python",
   "nbconvert_exporter": "python",
   "pygments_lexer": "ipython3",
   "version": "3.8.10"
  }
 },
 "nbformat": 4,
 "nbformat_minor": 5
}
